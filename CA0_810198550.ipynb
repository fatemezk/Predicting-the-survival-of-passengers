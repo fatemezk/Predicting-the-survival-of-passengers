{
 "cells": [
  {
   "cell_type": "markdown",
   "id": "451b59db",
   "metadata": {},
   "source": [
    "# Computer Assignment 0"
   ]
  },
  {
   "cell_type": "markdown",
   "id": "61aef530",
   "metadata": {},
   "source": [
    "# 1\n",
    "\n",
    "The head (n) function is used to access the first n rows of a dataframe or series. It returns a smaller version of the caller object with the first few entries.The default value of n is 5.\n",
    "\n",
    "\n",
    "The tail(n) function is used to get the last n rows. This function returns last n rows from the object based on position. It is useful for quickly verifying data, for example, after sorting or appending rows.\n",
    "\n",
    "\n",
    "The Describe function returns the statistical summary of the dataframe or series. This includes count, mean, median (or 50th percentile) standard variation, min-max, and percentile values of columns. To perform this function, chain . describe() to the dataframe or series.\n",
    "\n",
    "\n",
    "The info() method prints information about the DataFrame.\n",
    "The information contains the number of columns, column labels, column data types, memory usage, range index, and the number of cells in each column (non-null values)."
   ]
  },
  {
   "cell_type": "code",
   "execution_count": 25,
   "id": "b8c33344",
   "metadata": {},
   "outputs": [
    {
     "name": "stdout",
     "output_type": "stream",
     "text": [
      "head() :\n",
      "\n",
      "   PassengerId  Survived  Pclass  \\\n",
      "0            1         0       3   \n",
      "1            2         1       1   \n",
      "2            3         1       3   \n",
      "3            4         1       1   \n",
      "4            5         0       3   \n",
      "\n",
      "                                                Name     Sex   Age  SibSp  \\\n",
      "0                            Braund, Mr. Owen Harris    male  22.0      1   \n",
      "1  Cumings, Mrs. John Bradley (Florence Briggs Th...  female  38.0      1   \n",
      "2                             Heikkinen, Miss. Laina  female  26.0      0   \n",
      "3       Futrelle, Mrs. Jacques Heath (Lily May Peel)  female  35.0      1   \n",
      "4                           Allen, Mr. William Henry    male  35.0      0   \n",
      "\n",
      "   Parch            Ticket     Fare Cabin Embarked  \n",
      "0      0         A/5 21171   7.2500   NaN        S  \n",
      "1      0          PC 17599  71.2833   C85        C  \n",
      "2      0  STON/O2. 3101282   7.9250   NaN        S  \n",
      "3      0            113803  53.1000  C123        S  \n",
      "4      0            373450   8.0500   NaN        S  \n",
      "\n",
      "\n",
      "tail() :\n",
      "\n",
      "     PassengerId  Survived  Pclass                                      Name  \\\n",
      "886          887         0       2                     Montvila, Rev. Juozas   \n",
      "887          888         1       1              Graham, Miss. Margaret Edith   \n",
      "888          889         0       3  Johnston, Miss. Catherine Helen \"Carrie\"   \n",
      "889          890         1       1                     Behr, Mr. Karl Howell   \n",
      "890          891         0       3                       Dooley, Mr. Patrick   \n",
      "\n",
      "        Sex   Age  SibSp  Parch      Ticket   Fare Cabin Embarked  \n",
      "886    male  27.0      0      0      211536  13.00   NaN        S  \n",
      "887  female  19.0      0      0      112053  30.00   B42        S  \n",
      "888  female   NaN      1      2  W./C. 6607  23.45   NaN        S  \n",
      "889    male  26.0      0      0      111369  30.00  C148        C  \n",
      "890    male  32.0      0      0      370376   7.75   NaN        Q  \n",
      "\n",
      "\n",
      "describe() :\n",
      "\n",
      "       PassengerId    Survived      Pclass         Age       SibSp  \\\n",
      "count   891.000000  891.000000  891.000000  714.000000  891.000000   \n",
      "mean    446.000000    0.383838    2.308642   29.699118    0.523008   \n",
      "std     257.353842    0.486592    0.836071   14.526497    1.102743   \n",
      "min       1.000000    0.000000    1.000000    0.420000    0.000000   \n",
      "25%     223.500000    0.000000    2.000000   20.125000    0.000000   \n",
      "50%     446.000000    0.000000    3.000000   28.000000    0.000000   \n",
      "75%     668.500000    1.000000    3.000000   38.000000    1.000000   \n",
      "max     891.000000    1.000000    3.000000   80.000000    8.000000   \n",
      "\n",
      "            Parch        Fare  \n",
      "count  891.000000  891.000000  \n",
      "mean     0.381594   32.204208  \n",
      "std      0.806057   49.693429  \n",
      "min      0.000000    0.000000  \n",
      "25%      0.000000    7.910400  \n",
      "50%      0.000000   14.454200  \n",
      "75%      0.000000   31.000000  \n",
      "max      6.000000  512.329200  \n",
      "\n",
      "\n",
      "info() :\n",
      "\n",
      "<class 'pandas.core.frame.DataFrame'>\n",
      "RangeIndex: 891 entries, 0 to 890\n",
      "Data columns (total 12 columns):\n",
      " #   Column       Non-Null Count  Dtype  \n",
      "---  ------       --------------  -----  \n",
      " 0   PassengerId  891 non-null    int64  \n",
      " 1   Survived     891 non-null    int64  \n",
      " 2   Pclass       891 non-null    int64  \n",
      " 3   Name         891 non-null    object \n",
      " 4   Sex          891 non-null    object \n",
      " 5   Age          714 non-null    float64\n",
      " 6   SibSp        891 non-null    int64  \n",
      " 7   Parch        891 non-null    int64  \n",
      " 8   Ticket       891 non-null    object \n",
      " 9   Fare         891 non-null    float64\n",
      " 10  Cabin        204 non-null    object \n",
      " 11  Embarked     889 non-null    object \n",
      "dtypes: float64(2), int64(5), object(5)\n",
      "memory usage: 83.7+ KB\n",
      "None\n"
     ]
    }
   ],
   "source": [
    "import pandas\n",
    "initial_data = pandas.read_csv('train.csv')\n",
    "print(\"head() :\\n\")\n",
    "print(initial_data.head())\n",
    "print(\"\\n\\ntail() :\\n\")\n",
    "print(initial_data.tail())\n",
    "print(\"\\n\\ndescribe() :\\n\")\n",
    "print(initial_data.describe())\n",
    "print(\"\\n\\ninfo() :\\n\")\n",
    "print(initial_data.info())"
   ]
  },
  {
   "cell_type": "markdown",
   "id": "eca7173d",
   "metadata": {},
   "source": [
    "# 2"
   ]
  },
  {
   "cell_type": "code",
   "execution_count": 26,
   "id": "614737c0",
   "metadata": {},
   "outputs": [
    {
     "name": "stdout",
     "output_type": "stream",
     "text": [
      "<class 'pandas.core.frame.DataFrame'>\n",
      "RangeIndex: 891 entries, 0 to 890\n",
      "Data columns (total 12 columns):\n",
      " #   Column       Non-Null Count  Dtype  \n",
      "---  ------       --------------  -----  \n",
      " 0   PassengerId  891 non-null    int64  \n",
      " 1   Survived     891 non-null    int64  \n",
      " 2   Pclass       891 non-null    int64  \n",
      " 3   Name         891 non-null    object \n",
      " 4   Sex          891 non-null    int8   \n",
      " 5   Age          714 non-null    float64\n",
      " 6   SibSp        891 non-null    int64  \n",
      " 7   Parch        891 non-null    int64  \n",
      " 8   Ticket       891 non-null    object \n",
      " 9   Fare         891 non-null    float64\n",
      " 10  Cabin        204 non-null    object \n",
      " 11  Embarked     889 non-null    object \n",
      "dtypes: float64(2), int64(5), int8(1), object(4)\n",
      "memory usage: 77.6+ KB\n",
      "None\n"
     ]
    }
   ],
   "source": [
    "initial_data['Sex'] = initial_data['Sex'].astype('category').cat.codes\n",
    "print(initial_data.info())"
   ]
  },
  {
   "cell_type": "code",
   "execution_count": 27,
   "id": "a2042262",
   "metadata": {},
   "outputs": [
    {
     "data": {
      "text/plain": [
       "PassengerId      0\n",
       "Survived         0\n",
       "Pclass           0\n",
       "Name             0\n",
       "Sex              0\n",
       "Age            177\n",
       "SibSp            0\n",
       "Parch            0\n",
       "Ticket           0\n",
       "Fare             0\n",
       "Cabin          687\n",
       "Embarked         2\n",
       "dtype: int64"
      ]
     },
     "execution_count": 27,
     "metadata": {},
     "output_type": "execute_result"
    }
   ],
   "source": [
    "initial_data.isnull().sum()"
   ]
  },
  {
   "cell_type": "markdown",
   "id": "a6f3b509",
   "metadata": {},
   "source": [
    "# 3\n",
    "\n",
    "Most of the Cabin's cells was NaN so I deleted whole column.I used mean for Age and the most frequent data for Embarked because it wasnt a numerical value.\n"
   ]
  },
  {
   "cell_type": "code",
   "execution_count": 28,
   "id": "cd932462",
   "metadata": {},
   "outputs": [
    {
     "data": {
      "text/plain": [
       "PassengerId    0\n",
       "Survived       0\n",
       "Pclass         0\n",
       "Name           0\n",
       "Sex            0\n",
       "Age            0\n",
       "SibSp          0\n",
       "Parch          0\n",
       "Ticket         0\n",
       "Fare           0\n",
       "Embarked       0\n",
       "dtype: int64"
      ]
     },
     "execution_count": 28,
     "metadata": {},
     "output_type": "execute_result"
    }
   ],
   "source": [
    "initial_data.drop(['Cabin'], axis=1, inplace=True)\n",
    "initial_data['Age'].fillna(value = initial_data.Age.mean(), inplace = True)\n",
    "initial_data = initial_data.apply(lambda x:x.fillna(x.value_counts().index[0]))\n",
    "initial_data.isnull().sum()"
   ]
  },
  {
   "cell_type": "markdown",
   "id": "6e9d7ce0",
   "metadata": {},
   "source": [
    "disadvantages:\n",
    "\n",
    "It reduces the variance.\n",
    "Mean imputation does not preserve the relationships among variables.\n",
    "Mean Imputation Leads to An Underestimate of Standard Errors.\n",
    "\n",
    "advantages:\n",
    "\n",
    "Its easy to use."
   ]
  },
  {
   "cell_type": "markdown",
   "id": "3894464c",
   "metadata": {},
   "source": [
    "# 4\n",
    "\n",
    "Name and passengerId have unique vlaues for each cells so I deleted those columns."
   ]
  },
  {
   "cell_type": "code",
   "execution_count": 29,
   "id": "cf4fe245",
   "metadata": {},
   "outputs": [],
   "source": [
    "initial_data.drop(['Name'], axis=1, inplace=True)\n",
    "initial_data.drop(['PassengerId'], axis=1, inplace=True)"
   ]
  },
  {
   "cell_type": "markdown",
   "id": "954f98cd",
   "metadata": {},
   "source": [
    "# 5"
   ]
  },
  {
   "cell_type": "code",
   "execution_count": 32,
   "id": "43caccae",
   "metadata": {},
   "outputs": [
    {
     "name": "stdout",
     "output_type": "stream",
     "text": [
      "number of men:\n",
      "314\n",
      "number of women:\n",
      "577\n",
      "number of men with embarked=Southampton:\n"
     ]
    },
    {
     "data": {
      "text/plain": [
       "205"
      ]
     },
     "execution_count": 32,
     "metadata": {},
     "output_type": "execute_result"
    }
   ],
   "source": [
    "print(\"number of men:\")\n",
    "print(initial_data['Sex'].value_counts()[0])\n",
    "print(\"number of women:\")\n",
    "print(initial_data['Sex'].value_counts()[1])\n",
    "filt = (initial_data['Sex']==0) & (initial_data['Embarked'].str.contains('S'))\n",
    "initial_data[filt]\n",
    "print(\"number of men with embarked=Southampton:\")\n",
    "initial_data[filt].shape[0]"
   ]
  },
  {
   "cell_type": "markdown",
   "id": "fd4d9823",
   "metadata": {},
   "source": [
    "# 6"
   ]
  },
  {
   "cell_type": "code",
   "execution_count": 34,
   "id": "0f23a32b",
   "metadata": {},
   "outputs": [
    {
     "data": {
      "text/plain": [
       "41"
      ]
     },
     "execution_count": 34,
     "metadata": {},
     "output_type": "execute_result"
    }
   ],
   "source": [
    "f = (initial_data['Age']>35)&(initial_data['Pclass']==3)&(initial_data['SibSp']==0)&(initial_data['Parch']==0)\n",
    "initial_data[f]\n",
    "initial_data[f].shape[0]"
   ]
  },
  {
   "cell_type": "markdown",
   "id": "b241cb0d",
   "metadata": {},
   "source": [
    "# 7"
   ]
  },
  {
   "cell_type": "code",
   "execution_count": 37,
   "id": "f1000627",
   "metadata": {},
   "outputs": [
    {
     "name": "stdout",
     "output_type": "stream",
     "text": [
      "13.276029870129872\n",
      "Executed in 0.002988576889038086 seconds\n"
     ]
    }
   ],
   "source": [
    "import time\n",
    "start = time.time()\n",
    "print(initial_data[initial_data['Embarked']=='Q'].Fare.mean())\n",
    "print(f\"Executed in {time.time() - start} seconds\")"
   ]
  },
  {
   "cell_type": "markdown",
   "id": "a32e3a5b",
   "metadata": {},
   "source": [
    "# 8\n",
    "\n",
    "As we can see, using loop will take longer time than vectorization to execute."
   ]
  },
  {
   "cell_type": "code",
   "execution_count": 38,
   "id": "4371b696",
   "metadata": {},
   "outputs": [
    {
     "name": "stdout",
     "output_type": "stream",
     "text": [
      "13.276029870129872\n",
      "Executed in 0.12821626663208008 seconds\n"
     ]
    }
   ],
   "source": [
    "count_ = 0\n",
    "sum_ = 0\n",
    "start = time.time()\n",
    "for index,row in initial_data.iterrows():\n",
    "    if row['Embarked'] == 'Q':\n",
    "        sum_ += row['Fare']\n",
    "        count_ += 1\n",
    "print(sum_ / count_)\n",
    "print(f\"Executed in {time.time() - start} seconds\")"
   ]
  },
  {
   "cell_type": "markdown",
   "id": "ad2d0c71",
   "metadata": {},
   "source": [
    "# 9"
   ]
  },
  {
   "cell_type": "code",
   "execution_count": 39,
   "id": "16c20917",
   "metadata": {},
   "outputs": [
    {
     "data": {
      "text/plain": [
       "array([[<AxesSubplot:title={'center':'Survived'}>,\n",
       "        <AxesSubplot:title={'center':'Pclass'}>,\n",
       "        <AxesSubplot:title={'center':'Sex'}>],\n",
       "       [<AxesSubplot:title={'center':'Age'}>,\n",
       "        <AxesSubplot:title={'center':'SibSp'}>,\n",
       "        <AxesSubplot:title={'center':'Parch'}>],\n",
       "       [<AxesSubplot:title={'center':'Fare'}>, <AxesSubplot:>,\n",
       "        <AxesSubplot:>]], dtype=object)"
      ]
     },
     "execution_count": 39,
     "metadata": {},
     "output_type": "execute_result"
    },
    {
     "data": {
      "image/png": "[encoded data removed]",
      "text/plain": [
       "<Figure size 720x720 with 9 Axes>"
      ]
     },
     "metadata": {
      "needs_background": "light"
     },
     "output_type": "display_data"
    }
   ],
   "source": [
    "initial_data.hist(column=['Survived','Pclass','Sex','Age',\n",
    "                          'SibSp','Parch','Fare'],figsize=(10,10))"
   ]
  },
  {
   "cell_type": "markdown",
   "id": "2687e04c",
   "metadata": {},
   "source": [
    "# 10"
   ]
  },
  {
   "cell_type": "code",
   "execution_count": 40,
   "id": "90563d53",
   "metadata": {},
   "outputs": [
    {
     "data": {
      "text/plain": [
       "array([[<AxesSubplot:title={'center':'Survived'}>,\n",
       "        <AxesSubplot:title={'center':'Pclass'}>,\n",
       "        <AxesSubplot:title={'center':'Sex'}>],\n",
       "       [<AxesSubplot:title={'center':'Age'}>,\n",
       "        <AxesSubplot:title={'center':'SibSp'}>,\n",
       "        <AxesSubplot:title={'center':'Parch'}>],\n",
       "       [<AxesSubplot:title={'center':'Fare'}>, <AxesSubplot:>,\n",
       "        <AxesSubplot:>]], dtype=object)"
      ]
     },
     "execution_count": 40,
     "metadata": {},
     "output_type": "execute_result"
    },
    {
     "data": {
      "image/png": "[encoded data removed]",
      "text/plain": [
       "<Figure size 720x720 with 9 Axes>"
      ]
     },
     "metadata": {
      "needs_background": "light"
     },
     "output_type": "display_data"
    }
   ],
   "source": [
    "normalized_data = initial_data\n",
    "normalized_data['Survived'] = (initial_data['Survived']-initial_data['Survived'].mean())/initial_data['Survived'].std()\n",
    "normalized_data['Pclass'] = (initial_data['Pclass']-initial_data['Pclass'].mean())/initial_data['Pclass'].std()\n",
    "normalized_data['Sex'] = (initial_data['Sex']-initial_data['Sex'].mean())/initial_data['Sex'].std()\n",
    "normalized_data['Age'] = (initial_data['Age']-initial_data['Age'].mean())/initial_data['Age'].std()\n",
    "normalized_data['SibSp'] = (initial_data['SibSp']-initial_data['SibSp'].mean())/initial_data['SibSp'].std()\n",
    "normalized_data['Parch'] = (initial_data['Parch']-initial_data['Parch'].mean())/initial_data['Parch'].std()\n",
    "normalized_data['Fare'] = (initial_data['Fare']-initial_data['Fare'].mean())/initial_data['Fare'].std()\n",
    "\n",
    "normalized_data.hist(column=['Survived','Pclass','Sex','Age',\n",
    "                          'SibSp','Parch','Fare'],figsize=(10,10))"
   ]
  },
  {
   "cell_type": "code",
   "execution_count": null,
   "id": "a665602f",
   "metadata": {},
   "outputs": [],
   "source": []
  }
 ],
 "metadata": {
  "kernelspec": {
   "display_name": "Python 3 (ipykernel)",
   "language": "python",
   "name": "python3"
  },
  "language_info": {
   "codemirror_mode": {
    "name": "ipython",
    "version": 3
   },
   "file_extension": ".py",
   "mimetype": "text/x-python",
   "name": "python",
   "nbconvert_exporter": "python",
   "pygments_lexer": "ipython3",
   "version": "3.9.9"
  }
 },
 "nbformat": 4,
 "nbformat_minor": 5
}
